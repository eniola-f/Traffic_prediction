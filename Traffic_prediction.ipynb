{
 "cells": [
  {
   "cell_type": "markdown",
   "metadata": {},
   "source": [
    "# Traffic Prediction"
   ]
  },
  {
   "cell_type": "markdown",
   "metadata": {},
   "source": [
    "This project aims to preict the time of day at which certain junctions are congested based on their historical data from 2015 - 2017"
   ]
  },
  {
   "cell_type": "code",
   "execution_count": 1,
   "metadata": {},
   "outputs": [],
   "source": [
    "import pandas as pd\n",
    "import numpy as np"
   ]
  },
  {
   "cell_type": "code",
   "execution_count": 2,
   "metadata": {},
   "outputs": [],
   "source": [
    "import time\n",
    "from datetime import datetime"
   ]
  },
  {
   "cell_type": "code",
   "execution_count": 3,
   "metadata": {},
   "outputs": [
    {
     "data": {
      "text/html": [
       "<div>\n",
       "<style scoped>\n",
       "    .dataframe tbody tr th:only-of-type {\n",
       "        vertical-align: middle;\n",
       "    }\n",
       "\n",
       "    .dataframe tbody tr th {\n",
       "        vertical-align: top;\n",
       "    }\n",
       "\n",
       "    .dataframe thead th {\n",
       "        text-align: right;\n",
       "    }\n",
       "</style>\n",
       "<table border=\"1\" class=\"dataframe\">\n",
       "  <thead>\n",
       "    <tr style=\"text-align: right;\">\n",
       "      <th></th>\n",
       "      <th>DateTime</th>\n",
       "      <th>Junction</th>\n",
       "      <th>Vehicles</th>\n",
       "      <th>ID</th>\n",
       "    </tr>\n",
       "  </thead>\n",
       "  <tbody>\n",
       "    <tr>\n",
       "      <th>0</th>\n",
       "      <td>2015-11-01 00:00:00</td>\n",
       "      <td>1</td>\n",
       "      <td>15</td>\n",
       "      <td>20151101001</td>\n",
       "    </tr>\n",
       "    <tr>\n",
       "      <th>1</th>\n",
       "      <td>2015-11-01 01:00:00</td>\n",
       "      <td>1</td>\n",
       "      <td>13</td>\n",
       "      <td>20151101011</td>\n",
       "    </tr>\n",
       "    <tr>\n",
       "      <th>2</th>\n",
       "      <td>2015-11-01 02:00:00</td>\n",
       "      <td>1</td>\n",
       "      <td>10</td>\n",
       "      <td>20151101021</td>\n",
       "    </tr>\n",
       "    <tr>\n",
       "      <th>3</th>\n",
       "      <td>2015-11-01 03:00:00</td>\n",
       "      <td>1</td>\n",
       "      <td>7</td>\n",
       "      <td>20151101031</td>\n",
       "    </tr>\n",
       "    <tr>\n",
       "      <th>4</th>\n",
       "      <td>2015-11-01 04:00:00</td>\n",
       "      <td>1</td>\n",
       "      <td>9</td>\n",
       "      <td>20151101041</td>\n",
       "    </tr>\n",
       "  </tbody>\n",
       "</table>\n",
       "</div>"
      ],
      "text/plain": [
       "              DateTime  Junction  Vehicles           ID\n",
       "0  2015-11-01 00:00:00         1        15  20151101001\n",
       "1  2015-11-01 01:00:00         1        13  20151101011\n",
       "2  2015-11-01 02:00:00         1        10  20151101021\n",
       "3  2015-11-01 03:00:00         1         7  20151101031\n",
       "4  2015-11-01 04:00:00         1         9  20151101041"
      ]
     },
     "execution_count": 3,
     "metadata": {},
     "output_type": "execute_result"
    }
   ],
   "source": [
    "df = pd.read_csv(\"traffic.csv\")\n",
    "df.head()"
   ]
  },
  {
   "cell_type": "code",
   "execution_count": 4,
   "metadata": {},
   "outputs": [],
   "source": [
    "df = df[[\"ID\", \"DateTime\", \"Junction\", \"Vehicles\"]]"
   ]
  },
  {
   "cell_type": "code",
   "execution_count": 5,
   "metadata": {},
   "outputs": [
    {
     "name": "stdout",
     "output_type": "stream",
     "text": [
      "<class 'pandas.core.frame.DataFrame'>\n",
      "RangeIndex: 48120 entries, 0 to 48119\n",
      "Data columns (total 4 columns):\n",
      " #   Column    Non-Null Count  Dtype \n",
      "---  ------    --------------  ----- \n",
      " 0   ID        48120 non-null  int64 \n",
      " 1   DateTime  48120 non-null  object\n",
      " 2   Junction  48120 non-null  int64 \n",
      " 3   Vehicles  48120 non-null  int64 \n",
      "dtypes: int64(3), object(1)\n",
      "memory usage: 1.5+ MB\n"
     ]
    }
   ],
   "source": [
    "df.info()"
   ]
  },
  {
   "cell_type": "code",
   "execution_count": 6,
   "metadata": {},
   "outputs": [
    {
     "data": {
      "text/plain": [
       "dtype('O')"
      ]
     },
     "execution_count": 6,
     "metadata": {},
     "output_type": "execute_result"
    }
   ],
   "source": [
    "df[\"DateTime\"].dtype"
   ]
  },
  {
   "cell_type": "code",
   "execution_count": 7,
   "metadata": {},
   "outputs": [
    {
     "data": {
      "text/plain": [
       "pandas.core.series.Series"
      ]
     },
     "execution_count": 7,
     "metadata": {},
     "output_type": "execute_result"
    }
   ],
   "source": [
    "type(df[\"DateTime\"])"
   ]
  },
  {
   "cell_type": "code",
   "execution_count": 8,
   "metadata": {},
   "outputs": [],
   "source": [
    "df[\"DateTime\"] = df[\"DateTime\"].astype(\"datetime64\")"
   ]
  },
  {
   "cell_type": "code",
   "execution_count": 8,
   "metadata": {},
   "outputs": [],
   "source": [
    "# df[\"DateTime\"] = pd.to_datetime(df[\"DateTime\"])"
   ]
  },
  {
   "cell_type": "code",
   "execution_count": 9,
   "metadata": {},
   "outputs": [
    {
     "data": {
      "text/plain": [
       "dtype('<M8[ns]')"
      ]
     },
     "execution_count": 9,
     "metadata": {},
     "output_type": "execute_result"
    }
   ],
   "source": [
    "df[\"DateTime\"].dtype"
   ]
  },
  {
   "cell_type": "code",
   "execution_count": 10,
   "metadata": {},
   "outputs": [],
   "source": [
    "df[[\"Junction\", \"Vehicles\"]] = df[[\"Junction\", \"Vehicles\"]].astype(\"int32\")"
   ]
  },
  {
   "cell_type": "code",
   "execution_count": 11,
   "metadata": {},
   "outputs": [
    {
     "name": "stdout",
     "output_type": "stream",
     "text": [
      "<class 'pandas.core.frame.DataFrame'>\n",
      "RangeIndex: 48120 entries, 0 to 48119\n",
      "Data columns (total 4 columns):\n",
      " #   Column    Non-Null Count  Dtype         \n",
      "---  ------    --------------  -----         \n",
      " 0   ID        48120 non-null  int64         \n",
      " 1   DateTime  48120 non-null  datetime64[ns]\n",
      " 2   Junction  48120 non-null  int32         \n",
      " 3   Vehicles  48120 non-null  int32         \n",
      "dtypes: datetime64[ns](1), int32(2), int64(1)\n",
      "memory usage: 1.1 MB\n"
     ]
    }
   ],
   "source": [
    "df.info()"
   ]
  },
  {
   "cell_type": "code",
   "execution_count": 12,
   "metadata": {},
   "outputs": [
    {
     "data": {
      "text/html": [
       "<div>\n",
       "<style scoped>\n",
       "    .dataframe tbody tr th:only-of-type {\n",
       "        vertical-align: middle;\n",
       "    }\n",
       "\n",
       "    .dataframe tbody tr th {\n",
       "        vertical-align: top;\n",
       "    }\n",
       "\n",
       "    .dataframe thead th {\n",
       "        text-align: right;\n",
       "    }\n",
       "</style>\n",
       "<table border=\"1\" class=\"dataframe\">\n",
       "  <thead>\n",
       "    <tr style=\"text-align: right;\">\n",
       "      <th></th>\n",
       "      <th>ID</th>\n",
       "      <th>Junction</th>\n",
       "      <th>Vehicles</th>\n",
       "    </tr>\n",
       "  </thead>\n",
       "  <tbody>\n",
       "    <tr>\n",
       "      <th>count</th>\n",
       "      <td>4.812000e+04</td>\n",
       "      <td>48120.000000</td>\n",
       "      <td>48120.000000</td>\n",
       "    </tr>\n",
       "    <tr>\n",
       "      <th>mean</th>\n",
       "      <td>2.016330e+10</td>\n",
       "      <td>2.180549</td>\n",
       "      <td>22.791334</td>\n",
       "    </tr>\n",
       "    <tr>\n",
       "      <th>std</th>\n",
       "      <td>5.944854e+06</td>\n",
       "      <td>0.966955</td>\n",
       "      <td>20.750063</td>\n",
       "    </tr>\n",
       "    <tr>\n",
       "      <th>min</th>\n",
       "      <td>2.015110e+10</td>\n",
       "      <td>1.000000</td>\n",
       "      <td>1.000000</td>\n",
       "    </tr>\n",
       "    <tr>\n",
       "      <th>25%</th>\n",
       "      <td>2.016042e+10</td>\n",
       "      <td>1.000000</td>\n",
       "      <td>9.000000</td>\n",
       "    </tr>\n",
       "    <tr>\n",
       "      <th>50%</th>\n",
       "      <td>2.016093e+10</td>\n",
       "      <td>2.000000</td>\n",
       "      <td>15.000000</td>\n",
       "    </tr>\n",
       "    <tr>\n",
       "      <th>75%</th>\n",
       "      <td>2.017023e+10</td>\n",
       "      <td>3.000000</td>\n",
       "      <td>29.000000</td>\n",
       "    </tr>\n",
       "    <tr>\n",
       "      <th>max</th>\n",
       "      <td>2.017063e+10</td>\n",
       "      <td>4.000000</td>\n",
       "      <td>180.000000</td>\n",
       "    </tr>\n",
       "  </tbody>\n",
       "</table>\n",
       "</div>"
      ],
      "text/plain": [
       "                 ID      Junction      Vehicles\n",
       "count  4.812000e+04  48120.000000  48120.000000\n",
       "mean   2.016330e+10      2.180549     22.791334\n",
       "std    5.944854e+06      0.966955     20.750063\n",
       "min    2.015110e+10      1.000000      1.000000\n",
       "25%    2.016042e+10      1.000000      9.000000\n",
       "50%    2.016093e+10      2.000000     15.000000\n",
       "75%    2.017023e+10      3.000000     29.000000\n",
       "max    2.017063e+10      4.000000    180.000000"
      ]
     },
     "execution_count": 12,
     "metadata": {},
     "output_type": "execute_result"
    }
   ],
   "source": [
    "df.describe()"
   ]
  },
  {
   "cell_type": "code",
   "execution_count": 13,
   "metadata": {},
   "outputs": [
    {
     "data": {
      "text/plain": [
       "0"
      ]
     },
     "execution_count": 13,
     "metadata": {},
     "output_type": "execute_result"
    }
   ],
   "source": [
    "df.duplicated().sum()"
   ]
  },
  {
   "cell_type": "code",
   "execution_count": 14,
   "metadata": {},
   "outputs": [
    {
     "data": {
      "text/plain": [
       "0"
      ]
     },
     "execution_count": 14,
     "metadata": {},
     "output_type": "execute_result"
    }
   ],
   "source": [
    "df.ID.duplicated().sum()"
   ]
  },
  {
   "cell_type": "code",
   "execution_count": 15,
   "metadata": {},
   "outputs": [
    {
     "data": {
      "text/plain": [
       "array([1, 2, 3, 4])"
      ]
     },
     "execution_count": 15,
     "metadata": {},
     "output_type": "execute_result"
    }
   ],
   "source": [
    "df['Junction'].unique()"
   ]
  },
  {
   "cell_type": "code",
   "execution_count": 16,
   "metadata": {},
   "outputs": [
    {
     "data": {
      "text/plain": [
       "3    14592\n",
       "2    14592\n",
       "1    14592\n",
       "4     4344\n",
       "Name: Junction, dtype: int64"
      ]
     },
     "execution_count": 16,
     "metadata": {},
     "output_type": "execute_result"
    }
   ],
   "source": [
    "df.Junction.value_counts()"
   ]
  },
  {
   "cell_type": "code",
   "execution_count": 17,
   "metadata": {},
   "outputs": [
    {
     "data": {
      "text/plain": [
       "180"
      ]
     },
     "execution_count": 17,
     "metadata": {},
     "output_type": "execute_result"
    }
   ],
   "source": [
    "df.Vehicles.max()"
   ]
  },
  {
   "cell_type": "code",
   "execution_count": 18,
   "metadata": {},
   "outputs": [
    {
     "data": {
      "text/html": [
       "<div>\n",
       "<style scoped>\n",
       "    .dataframe tbody tr th:only-of-type {\n",
       "        vertical-align: middle;\n",
       "    }\n",
       "\n",
       "    .dataframe tbody tr th {\n",
       "        vertical-align: top;\n",
       "    }\n",
       "\n",
       "    .dataframe thead th {\n",
       "        text-align: right;\n",
       "    }\n",
       "</style>\n",
       "<table border=\"1\" class=\"dataframe\">\n",
       "  <thead>\n",
       "    <tr style=\"text-align: right;\">\n",
       "      <th></th>\n",
       "      <th>ID</th>\n",
       "      <th>DateTime</th>\n",
       "      <th>Junction</th>\n",
       "      <th>Vehicles</th>\n",
       "    </tr>\n",
       "  </thead>\n",
       "  <tbody>\n",
       "    <tr>\n",
       "      <th>40723</th>\n",
       "      <td>20170223193</td>\n",
       "      <td>2017-02-23 19:00:00</td>\n",
       "      <td>3</td>\n",
       "      <td>180</td>\n",
       "    </tr>\n",
       "  </tbody>\n",
       "</table>\n",
       "</div>"
      ],
      "text/plain": [
       "                ID            DateTime  Junction  Vehicles\n",
       "40723  20170223193 2017-02-23 19:00:00         3       180"
      ]
     },
     "execution_count": 18,
     "metadata": {},
     "output_type": "execute_result"
    }
   ],
   "source": [
    "df[df['Vehicles'] == df.Vehicles.max()]"
   ]
  },
  {
   "cell_type": "code",
   "execution_count": 19,
   "metadata": {},
   "outputs": [
    {
     "data": {
      "text/html": [
       "<div>\n",
       "<style scoped>\n",
       "    .dataframe tbody tr th:only-of-type {\n",
       "        vertical-align: middle;\n",
       "    }\n",
       "\n",
       "    .dataframe tbody tr th {\n",
       "        vertical-align: top;\n",
       "    }\n",
       "\n",
       "    .dataframe thead th {\n",
       "        text-align: right;\n",
       "    }\n",
       "</style>\n",
       "<table border=\"1\" class=\"dataframe\">\n",
       "  <thead>\n",
       "    <tr style=\"text-align: right;\">\n",
       "      <th></th>\n",
       "      <th>ID</th>\n",
       "      <th>DateTime</th>\n",
       "      <th>Junction</th>\n",
       "      <th>Vehicles</th>\n",
       "    </tr>\n",
       "  </thead>\n",
       "  <tbody>\n",
       "    <tr>\n",
       "      <th>16057</th>\n",
       "      <td>20160101012</td>\n",
       "      <td>2016-01-01 01:00:00</td>\n",
       "      <td>2</td>\n",
       "      <td>1</td>\n",
       "    </tr>\n",
       "    <tr>\n",
       "      <th>21254</th>\n",
       "      <td>20160804142</td>\n",
       "      <td>2016-08-04 14:00:00</td>\n",
       "      <td>2</td>\n",
       "      <td>1</td>\n",
       "    </tr>\n",
       "    <tr>\n",
       "      <th>21255</th>\n",
       "      <td>20160804152</td>\n",
       "      <td>2016-08-04 15:00:00</td>\n",
       "      <td>2</td>\n",
       "      <td>1</td>\n",
       "    </tr>\n",
       "    <tr>\n",
       "      <th>21258</th>\n",
       "      <td>20160804182</td>\n",
       "      <td>2016-08-04 18:00:00</td>\n",
       "      <td>2</td>\n",
       "      <td>1</td>\n",
       "    </tr>\n",
       "    <tr>\n",
       "      <th>21269</th>\n",
       "      <td>20160805052</td>\n",
       "      <td>2016-08-05 05:00:00</td>\n",
       "      <td>2</td>\n",
       "      <td>1</td>\n",
       "    </tr>\n",
       "    <tr>\n",
       "      <th>...</th>\n",
       "      <td>...</td>\n",
       "      <td>...</td>\n",
       "      <td>...</td>\n",
       "      <td>...</td>\n",
       "    </tr>\n",
       "    <tr>\n",
       "      <th>47477</th>\n",
       "      <td>20170604054</td>\n",
       "      <td>2017-06-04 05:00:00</td>\n",
       "      <td>4</td>\n",
       "      <td>1</td>\n",
       "    </tr>\n",
       "    <tr>\n",
       "      <th>48004</th>\n",
       "      <td>20170626044</td>\n",
       "      <td>2017-06-26 04:00:00</td>\n",
       "      <td>4</td>\n",
       "      <td>1</td>\n",
       "    </tr>\n",
       "    <tr>\n",
       "      <th>48028</th>\n",
       "      <td>20170627044</td>\n",
       "      <td>2017-06-27 04:00:00</td>\n",
       "      <td>4</td>\n",
       "      <td>1</td>\n",
       "    </tr>\n",
       "    <tr>\n",
       "      <th>48029</th>\n",
       "      <td>20170627054</td>\n",
       "      <td>2017-06-27 05:00:00</td>\n",
       "      <td>4</td>\n",
       "      <td>1</td>\n",
       "    </tr>\n",
       "    <tr>\n",
       "      <th>48030</th>\n",
       "      <td>20170627064</td>\n",
       "      <td>2017-06-27 06:00:00</td>\n",
       "      <td>4</td>\n",
       "      <td>1</td>\n",
       "    </tr>\n",
       "  </tbody>\n",
       "</table>\n",
       "<p>148 rows × 4 columns</p>\n",
       "</div>"
      ],
      "text/plain": [
       "                ID            DateTime  Junction  Vehicles\n",
       "16057  20160101012 2016-01-01 01:00:00         2         1\n",
       "21254  20160804142 2016-08-04 14:00:00         2         1\n",
       "21255  20160804152 2016-08-04 15:00:00         2         1\n",
       "21258  20160804182 2016-08-04 18:00:00         2         1\n",
       "21269  20160805052 2016-08-05 05:00:00         2         1\n",
       "...            ...                 ...       ...       ...\n",
       "47477  20170604054 2017-06-04 05:00:00         4         1\n",
       "48004  20170626044 2017-06-26 04:00:00         4         1\n",
       "48028  20170627044 2017-06-27 04:00:00         4         1\n",
       "48029  20170627054 2017-06-27 05:00:00         4         1\n",
       "48030  20170627064 2017-06-27 06:00:00         4         1\n",
       "\n",
       "[148 rows x 4 columns]"
      ]
     },
     "execution_count": 19,
     "metadata": {},
     "output_type": "execute_result"
    }
   ],
   "source": [
    "df[df['Vehicles'] == df.Vehicles.min()]"
   ]
  },
  {
   "cell_type": "code",
   "execution_count": 20,
   "metadata": {},
   "outputs": [
    {
     "data": {
      "text/plain": [
       "Timestamp('2015-11-01 00:00:00')"
      ]
     },
     "execution_count": 20,
     "metadata": {},
     "output_type": "execute_result"
    }
   ],
   "source": [
    "df.DateTime.min()"
   ]
  },
  {
   "cell_type": "code",
   "execution_count": 21,
   "metadata": {},
   "outputs": [
    {
     "data": {
      "text/plain": [
       "Timestamp('2017-06-30 23:00:00')"
      ]
     },
     "execution_count": 21,
     "metadata": {},
     "output_type": "execute_result"
    }
   ],
   "source": [
    "df.DateTime.max()"
   ]
  },
  {
   "cell_type": "code",
   "execution_count": 22,
   "metadata": {},
   "outputs": [
    {
     "data": {
      "text/plain": [
       "2015-11-16 09:00:00    3\n",
       "2016-08-08 08:00:00    3\n",
       "2016-04-01 02:00:00    3\n",
       "2015-12-29 21:00:00    3\n",
       "2016-09-19 05:00:00    3\n",
       "2016-06-07 15:00:00    3\n",
       "2016-01-21 20:00:00    3\n",
       "2017-06-18 07:00:00    4\n",
       "2016-01-15 00:00:00    3\n",
       "2016-11-14 14:00:00    3\n",
       "Name: DateTime, dtype: int64"
      ]
     },
     "execution_count": 22,
     "metadata": {},
     "output_type": "execute_result"
    }
   ],
   "source": [
    "df.DateTime.value_counts().sample(10)"
   ]
  },
  {
   "cell_type": "code",
   "execution_count": 27,
   "metadata": {},
   "outputs": [
    {
     "data": {
      "text/plain": [
       "datetime.time(0, 0)"
      ]
     },
     "execution_count": 27,
     "metadata": {},
     "output_type": "execute_result"
    }
   ],
   "source": [
    "datetime.strptime(str(df.DateTime[0]), \"%Y-%m-%d %H:%M:%S\").time()"
   ]
  },
  {
   "cell_type": "code",
   "execution_count": 28,
   "metadata": {},
   "outputs": [
    {
     "data": {
      "text/plain": [
       "2015"
      ]
     },
     "execution_count": 28,
     "metadata": {},
     "output_type": "execute_result"
    }
   ],
   "source": [
    "datetime.strptime(str(df.DateTime[0]), \"%Y-%m-%d %H:%M:%S\").year"
   ]
  },
  {
   "cell_type": "code",
   "execution_count": 50,
   "metadata": {},
   "outputs": [
    {
     "data": {
      "text/plain": [
       "1"
      ]
     },
     "execution_count": 50,
     "metadata": {},
     "output_type": "execute_result"
    }
   ],
   "source": [
    "datetime.strptime(str(df.DateTime[0]), \"%Y-%m-%d %H:%M:%S\").day"
   ]
  },
  {
   "cell_type": "code",
   "execution_count": 25,
   "metadata": {},
   "outputs": [
    {
     "data": {
      "text/plain": [
       "\u001b[1;31mType:\u001b[0m        DatetimeProperties\n",
       "\u001b[1;31mString form:\u001b[0m <pandas.core.indexes.accessors.DatetimeProperties object at 0x00000224D3C0E7C8>\n",
       "\u001b[1;31mFile:\u001b[0m        c:\\users\\molie\\anaconda3\\lib\\site-packages\\pandas\\core\\indexes\\accessors.py\n",
       "\u001b[1;31mDocstring:\u001b[0m  \n",
       "Accessor object for datetimelike properties of the Series values.\n",
       "\n",
       "Examples\n",
       "--------\n",
       ">>> s.dt.hour\n",
       ">>> s.dt.second\n",
       ">>> s.dt.quarter\n",
       "\n",
       "Returns a Series indexed like the original Series.\n",
       "Raises TypeError if the Series does not contain datetimelike values.\n"
      ]
     },
     "metadata": {},
     "output_type": "display_data"
    }
   ],
   "source": [
    "df.DateTime.dt?"
   ]
  },
  {
   "cell_type": "code",
   "execution_count": 29,
   "metadata": {},
   "outputs": [
    {
     "data": {
      "text/plain": [
       "0         0\n",
       "1         1\n",
       "2         2\n",
       "3         3\n",
       "4         4\n",
       "         ..\n",
       "48115    19\n",
       "48116    20\n",
       "48117    21\n",
       "48118    22\n",
       "48119    23\n",
       "Name: DateTime, Length: 48120, dtype: int64"
      ]
     },
     "execution_count": 29,
     "metadata": {},
     "output_type": "execute_result"
    }
   ],
   "source": [
    "df[\"DateTime\"].dt.hour"
   ]
  },
  {
   "cell_type": "code",
   "execution_count": 24,
   "metadata": {},
   "outputs": [
    {
     "data": {
      "text/plain": [
       "0        00:00:00\n",
       "1        01:00:00\n",
       "2        02:00:00\n",
       "3        03:00:00\n",
       "4        04:00:00\n",
       "           ...   \n",
       "48115    19:00:00\n",
       "48116    20:00:00\n",
       "48117    21:00:00\n",
       "48118    22:00:00\n",
       "48119    23:00:00\n",
       "Name: DateTime, Length: 48120, dtype: object"
      ]
     },
     "execution_count": 24,
     "metadata": {},
     "output_type": "execute_result"
    }
   ],
   "source": [
    "df[\"DateTime\"].dt.time"
   ]
  },
  {
   "cell_type": "code",
   "execution_count": 13,
   "metadata": {},
   "outputs": [],
   "source": [
    "df[\"Hour\"] = df[\"DateTime\"].dt.strftime(\"%H:%M\")"
   ]
  },
  {
   "cell_type": "code",
   "execution_count": 14,
   "metadata": {},
   "outputs": [],
   "source": [
    "df[\"Month\"] = df[\"DateTime\"].dt.strftime(\"%b, %Y\")"
   ]
  },
  {
   "cell_type": "code",
   "execution_count": 15,
   "metadata": {},
   "outputs": [],
   "source": [
    "df = df[[\"ID\", \"DateTime\", \"Month\", \"Hour\", \"Junction\", \"Vehicles\"]]"
   ]
  },
  {
   "cell_type": "code",
   "execution_count": 81,
   "metadata": {},
   "outputs": [
    {
     "data": {
      "text/html": [
       "<div>\n",
       "<style scoped>\n",
       "    .dataframe tbody tr th:only-of-type {\n",
       "        vertical-align: middle;\n",
       "    }\n",
       "\n",
       "    .dataframe tbody tr th {\n",
       "        vertical-align: top;\n",
       "    }\n",
       "\n",
       "    .dataframe thead th {\n",
       "        text-align: right;\n",
       "    }\n",
       "</style>\n",
       "<table border=\"1\" class=\"dataframe\">\n",
       "  <thead>\n",
       "    <tr style=\"text-align: right;\">\n",
       "      <th></th>\n",
       "      <th>ID</th>\n",
       "      <th>DateTime</th>\n",
       "      <th>Month</th>\n",
       "      <th>Hour</th>\n",
       "      <th>Junction</th>\n",
       "      <th>Vehicles</th>\n",
       "    </tr>\n",
       "  </thead>\n",
       "  <tbody>\n",
       "    <tr>\n",
       "      <th>0</th>\n",
       "      <td>20151101001</td>\n",
       "      <td>2015-11-01 00:00:00</td>\n",
       "      <td>Nov, 2015</td>\n",
       "      <td>00:00</td>\n",
       "      <td>1</td>\n",
       "      <td>15</td>\n",
       "    </tr>\n",
       "    <tr>\n",
       "      <th>1</th>\n",
       "      <td>20151101011</td>\n",
       "      <td>2015-11-01 01:00:00</td>\n",
       "      <td>Nov, 2015</td>\n",
       "      <td>01:00</td>\n",
       "      <td>1</td>\n",
       "      <td>13</td>\n",
       "    </tr>\n",
       "    <tr>\n",
       "      <th>2</th>\n",
       "      <td>20151101021</td>\n",
       "      <td>2015-11-01 02:00:00</td>\n",
       "      <td>Nov, 2015</td>\n",
       "      <td>02:00</td>\n",
       "      <td>1</td>\n",
       "      <td>10</td>\n",
       "    </tr>\n",
       "    <tr>\n",
       "      <th>3</th>\n",
       "      <td>20151101031</td>\n",
       "      <td>2015-11-01 03:00:00</td>\n",
       "      <td>Nov, 2015</td>\n",
       "      <td>03:00</td>\n",
       "      <td>1</td>\n",
       "      <td>7</td>\n",
       "    </tr>\n",
       "    <tr>\n",
       "      <th>4</th>\n",
       "      <td>20151101041</td>\n",
       "      <td>2015-11-01 04:00:00</td>\n",
       "      <td>Nov, 2015</td>\n",
       "      <td>04:00</td>\n",
       "      <td>1</td>\n",
       "      <td>9</td>\n",
       "    </tr>\n",
       "  </tbody>\n",
       "</table>\n",
       "</div>"
      ],
      "text/plain": [
       "            ID            DateTime      Month   Hour  Junction  Vehicles\n",
       "0  20151101001 2015-11-01 00:00:00  Nov, 2015  00:00         1        15\n",
       "1  20151101011 2015-11-01 01:00:00  Nov, 2015  01:00         1        13\n",
       "2  20151101021 2015-11-01 02:00:00  Nov, 2015  02:00         1        10\n",
       "3  20151101031 2015-11-01 03:00:00  Nov, 2015  03:00         1         7\n",
       "4  20151101041 2015-11-01 04:00:00  Nov, 2015  04:00         1         9"
      ]
     },
     "execution_count": 81,
     "metadata": {},
     "output_type": "execute_result"
    }
   ],
   "source": [
    "df.head()"
   ]
  },
  {
   "cell_type": "code",
   "execution_count": 16,
   "metadata": {},
   "outputs": [
    {
     "data": {
      "text/plain": [
       "Junction  Hour \n",
       "1         00:00    27809\n",
       "          01:00    23807\n",
       "          02:00    20616\n",
       "          03:00    17894\n",
       "          04:00    15598\n",
       "                   ...  \n",
       "4         19:00     1602\n",
       "          20:00     1636\n",
       "          21:00     1525\n",
       "          22:00     1586\n",
       "          23:00     1504\n",
       "Name: Vehicles, Length: 96, dtype: int32"
      ]
     },
     "execution_count": 16,
     "metadata": {},
     "output_type": "execute_result"
    }
   ],
   "source": [
    "group = df.groupby([\"Junction\", \"Hour\"])\n",
    "group[\"Vehicles\"].sum()"
   ]
  },
  {
   "cell_type": "code",
   "execution_count": 55,
   "metadata": {},
   "outputs": [
    {
     "name": "stdout",
     "output_type": "stream",
     "text": [
      "Total number of vehicles at all junctions over the years: 1096719\n",
      "Average number of vehicles at all junctions per day: 1803.814144736842\n",
      "Average number of vehicles at each junction at a time: 22.79133416458853\n",
      "Highest number of vehicles at each junction at a time: 180\n",
      "Lowest number of vehicles at each junction at a time: 1\n"
     ]
    }
   ],
   "source": [
    "print(\"Total number of vehicles at all junctions over the years:\", df.Vehicles.sum())\n",
    "print(\"Average number of vehicles at all junctions per day:\", df.Vehicles.groupby(df[\"DateTime\"].dt.strftime(\"%Y-%m-%d\")).sum().mean())\n",
    "print(\"Average number of vehicles at each junction at a time:\", df.Vehicles.mean())\n",
    "print(\"Highest number of vehicles at each junction at a time:\", df.Vehicles.max())\n",
    "print(\"Lowest number of vehicles at each junction at a time:\", df.Vehicles.min())"
   ]
  },
  {
   "cell_type": "code",
   "execution_count": 56,
   "metadata": {},
   "outputs": [
    {
     "data": {
      "text/plain": [
       "DateTime\n",
       "2015-11-01     596\n",
       "2015-11-02     909\n",
       "2015-11-03     911\n",
       "2015-11-04     818\n",
       "2015-11-05     770\n",
       "              ... \n",
       "2017-06-26    2956\n",
       "2017-06-27    3709\n",
       "2017-06-28    3579\n",
       "2017-06-29    3575\n",
       "2017-06-30    3363\n",
       "Name: Vehicles, Length: 608, dtype: int32"
      ]
     },
     "execution_count": 56,
     "metadata": {},
     "output_type": "execute_result"
    }
   ],
   "source": [
    "df.Vehicles.groupby(df[\"DateTime\"].dt.strftime(\"%Y-%m-%d\")).sum()"
   ]
  },
  {
   "cell_type": "code",
   "execution_count": 39,
   "metadata": {},
   "outputs": [
    {
     "data": {
      "text/plain": [
       "Hour\n",
       "00:00    47199\n",
       "01:00    39408\n",
       "02:00    34291\n",
       "03:00    29769\n",
       "04:00    26011\n",
       "05:00    24408\n",
       "06:00    26025\n",
       "07:00    29480\n",
       "08:00    32888\n",
       "09:00    38856\n",
       "10:00    48581\n",
       "11:00    55128\n",
       "12:00    56950\n",
       "13:00    51305\n",
       "14:00    55544\n",
       "15:00    55439\n",
       "16:00    53482\n",
       "17:00    53430\n",
       "18:00    56331\n",
       "19:00    59859\n",
       "20:00    59799\n",
       "21:00    56547\n",
       "22:00    54590\n",
       "23:00    51399\n",
       "Name: Vehicles, dtype: int32"
      ]
     },
     "execution_count": 39,
     "metadata": {},
     "output_type": "execute_result"
    }
   ],
   "source": [
    "df.Vehicles.groupby(df[\"Hour\"]).sum()"
   ]
  },
  {
   "cell_type": "code",
   "execution_count": 45,
   "metadata": {},
   "outputs": [
    {
     "data": {
      "text/plain": [
       "Junction\n",
       "1    657412\n",
       "2    207983\n",
       "3    199823\n",
       "4     31501\n",
       "Name: Vehicles, dtype: int32"
      ]
     },
     "execution_count": 45,
     "metadata": {},
     "output_type": "execute_result"
    }
   ],
   "source": [
    "df.Vehicles.groupby(df[\"Junction\"]).sum()"
   ]
  },
  {
   "cell_type": "code",
   "execution_count": 17,
   "metadata": {},
   "outputs": [],
   "source": [
    "import seaborn as sns\n",
    "import matplotlib.pyplot as plt"
   ]
  },
  {
   "cell_type": "code",
   "execution_count": 18,
   "metadata": {},
   "outputs": [],
   "source": [
    "# Set plot style and figure size\n",
    "sns.set(style=\"whitegrid\", rc={\"figure.figsize\":(15, 8)})"
   ]
  },
  {
   "cell_type": "code",
   "execution_count": 19,
   "metadata": {},
   "outputs": [
    {
     "data": {
      "text/plain": [
       "<matplotlib.axes._subplots.AxesSubplot at 0x1dbfdefe6c8>"
      ]
     },
     "execution_count": 19,
     "metadata": {},
     "output_type": "execute_result"
    },
    {
     "data": {
      "image/png": "[encoded data removed]",
      "text/plain": [
       "<Figure size 1080x576 with 1 Axes>"
      ]
     },
     "metadata": {},
     "output_type": "display_data"
    }
   ],
   "source": [
    "df.Vehicles.groupby(df[\"DateTime\"].dt.strftime(\"%Y-%m-%d\")).sum().plot()"
   ]
  },
  {
   "cell_type": "code",
   "execution_count": 20,
   "metadata": {},
   "outputs": [
    {
     "data": {
      "text/plain": [
       "<matplotlib.axes._subplots.AxesSubplot at 0x1dbfdee8908>"
      ]
     },
     "execution_count": 20,
     "metadata": {},
     "output_type": "execute_result"
    },
    {
     "data": {
      "image/png": "[encoded data removed]",
      "text/plain": [
       "<Figure size 1080x576 with 1 Axes>"
      ]
     },
     "metadata": {},
     "output_type": "display_data"
    }
   ],
   "source": [
    "sns.barplot(x=\"Hour\", y=\"Vehicles\", data=df)"
   ]
  },
  {
   "cell_type": "code",
   "execution_count": 22,
   "metadata": {},
   "outputs": [
    {
     "data": {
      "text/plain": [
       "<matplotlib.axes._subplots.AxesSubplot at 0x1dbfe1617c8>"
      ]
     },
     "execution_count": 22,
     "metadata": {},
     "output_type": "execute_result"
    },
    {
     "data": {
      "image/png": "[encoded data removed]",
      "text/plain": [
       "<Figure size 1080x576 with 1 Axes>"
      ]
     },
     "metadata": {},
     "output_type": "display_data"
    }
   ],
   "source": [
    "sns.lineplot(x=\"Month\", y=\"Vehicles\", hue=\"Junction\", data=df)\n",
    "\n",
    "# plt.xlabel(rot)"
   ]
  },
  {
   "cell_type": "code",
   "execution_count": 85,
   "metadata": {},
   "outputs": [
    {
     "data": {
      "text/plain": [
       "\u001b[1;31mSignature:\u001b[0m \u001b[0mplt\u001b[0m\u001b[1;33m.\u001b[0m\u001b[0mxticks\u001b[0m\u001b[1;33m(\u001b[0m\u001b[0mticks\u001b[0m\u001b[1;33m=\u001b[0m\u001b[1;32mNone\u001b[0m\u001b[1;33m,\u001b[0m \u001b[0mlabels\u001b[0m\u001b[1;33m=\u001b[0m\u001b[1;32mNone\u001b[0m\u001b[1;33m,\u001b[0m \u001b[1;33m**\u001b[0m\u001b[0mkwargs\u001b[0m\u001b[1;33m)\u001b[0m\u001b[1;33m\u001b[0m\u001b[1;33m\u001b[0m\u001b[0m\n",
       "\u001b[1;31mDocstring:\u001b[0m\n",
       "Get or set the current tick locations and labels of the x-axis.\n",
       "\n",
       "Call signatures::\n",
       "\n",
       "    locs, labels = xticks()            # Get locations and labels\n",
       "    xticks(ticks, [labels], **kwargs)  # Set locations and labels\n",
       "\n",
       "Parameters\n",
       "----------\n",
       "ticks : array_like\n",
       "    A list of positions at which ticks should be placed. You can pass an\n",
       "    empty list to disable xticks.\n",
       "\n",
       "labels : array_like, optional\n",
       "    A list of explicit labels to place at the given *locs*.\n",
       "\n",
       "**kwargs\n",
       "    :class:`.Text` properties can be used to control the appearance of\n",
       "    the labels.\n",
       "\n",
       "Returns\n",
       "-------\n",
       "locs\n",
       "    An array of label locations.\n",
       "labels\n",
       "    A list of `.Text` objects.\n",
       "\n",
       "Notes\n",
       "-----\n",
       "Calling this function with no arguments (e.g. ``xticks()``) is the pyplot\n",
       "equivalent of calling `~.Axes.get_xticks` and `~.Axes.get_xticklabels` on\n",
       "the current axes.\n",
       "Calling this function with arguments is the pyplot equivalent of calling\n",
       "`~.Axes.set_xticks` and `~.Axes.set_xticklabels` on the current axes.\n",
       "\n",
       "Examples\n",
       "--------\n",
       "Get the current locations and labels:\n",
       "\n",
       "    >>> locs, labels = xticks()\n",
       "\n",
       "Set label locations:\n",
       "\n",
       "    >>> xticks(np.arange(0, 1, step=0.2))\n",
       "\n",
       "Set text labels:\n",
       "\n",
       "    >>> xticks(np.arange(5), ('Tom', 'Dick', 'Harry', 'Sally', 'Sue'))\n",
       "\n",
       "Set text labels and properties:\n",
       "\n",
       "    >>> xticks(np.arange(12), calendar.month_name[1:13], rotation=20)\n",
       "\n",
       "Disable xticks:\n",
       "\n",
       "    >>> xticks([])\n",
       "\u001b[1;31mFile:\u001b[0m      c:\\users\\molie\\anaconda3\\lib\\site-packages\\matplotlib\\pyplot.py\n",
       "\u001b[1;31mType:\u001b[0m      function\n"
      ]
     },
     "metadata": {},
     "output_type": "display_data"
    }
   ],
   "source": [
    "plt.xticks?"
   ]
  },
  {
   "cell_type": "code",
   "execution_count": 24,
   "metadata": {},
   "outputs": [
    {
     "data": {
      "text/html": [
       "<div>\n",
       "<style scoped>\n",
       "    .dataframe tbody tr th:only-of-type {\n",
       "        vertical-align: middle;\n",
       "    }\n",
       "\n",
       "    .dataframe tbody tr th {\n",
       "        vertical-align: top;\n",
       "    }\n",
       "\n",
       "    .dataframe thead th {\n",
       "        text-align: right;\n",
       "    }\n",
       "</style>\n",
       "<table border=\"1\" class=\"dataframe\">\n",
       "  <thead>\n",
       "    <tr style=\"text-align: right;\">\n",
       "      <th></th>\n",
       "      <th>ID</th>\n",
       "      <th>DateTime</th>\n",
       "      <th>Month</th>\n",
       "      <th>Hour</th>\n",
       "      <th>Junction</th>\n",
       "      <th>Vehicles</th>\n",
       "    </tr>\n",
       "  </thead>\n",
       "  <tbody>\n",
       "    <tr>\n",
       "      <th>0</th>\n",
       "      <td>20151101001</td>\n",
       "      <td>2015-11-01 00:00:00</td>\n",
       "      <td>Nov, 2015</td>\n",
       "      <td>00:00</td>\n",
       "      <td>1</td>\n",
       "      <td>15</td>\n",
       "    </tr>\n",
       "    <tr>\n",
       "      <th>1</th>\n",
       "      <td>20151101011</td>\n",
       "      <td>2015-11-01 01:00:00</td>\n",
       "      <td>Nov, 2015</td>\n",
       "      <td>01:00</td>\n",
       "      <td>1</td>\n",
       "      <td>13</td>\n",
       "    </tr>\n",
       "    <tr>\n",
       "      <th>2</th>\n",
       "      <td>20151101021</td>\n",
       "      <td>2015-11-01 02:00:00</td>\n",
       "      <td>Nov, 2015</td>\n",
       "      <td>02:00</td>\n",
       "      <td>1</td>\n",
       "      <td>10</td>\n",
       "    </tr>\n",
       "    <tr>\n",
       "      <th>3</th>\n",
       "      <td>20151101031</td>\n",
       "      <td>2015-11-01 03:00:00</td>\n",
       "      <td>Nov, 2015</td>\n",
       "      <td>03:00</td>\n",
       "      <td>1</td>\n",
       "      <td>7</td>\n",
       "    </tr>\n",
       "    <tr>\n",
       "      <th>4</th>\n",
       "      <td>20151101041</td>\n",
       "      <td>2015-11-01 04:00:00</td>\n",
       "      <td>Nov, 2015</td>\n",
       "      <td>04:00</td>\n",
       "      <td>1</td>\n",
       "      <td>9</td>\n",
       "    </tr>\n",
       "  </tbody>\n",
       "</table>\n",
       "</div>"
      ],
      "text/plain": [
       "            ID            DateTime      Month   Hour  Junction  Vehicles\n",
       "0  20151101001 2015-11-01 00:00:00  Nov, 2015  00:00         1        15\n",
       "1  20151101011 2015-11-01 01:00:00  Nov, 2015  01:00         1        13\n",
       "2  20151101021 2015-11-01 02:00:00  Nov, 2015  02:00         1        10\n",
       "3  20151101031 2015-11-01 03:00:00  Nov, 2015  03:00         1         7\n",
       "4  20151101041 2015-11-01 04:00:00  Nov, 2015  04:00         1         9"
      ]
     },
     "execution_count": 24,
     "metadata": {},
     "output_type": "execute_result"
    }
   ],
   "source": [
    "df.head()"
   ]
  },
  {
   "cell_type": "code",
   "execution_count": 28,
   "metadata": {},
   "outputs": [
    {
     "data": {
      "text/plain": [
       "0        11\n",
       "1        11\n",
       "2        11\n",
       "3        11\n",
       "4        11\n",
       "         ..\n",
       "48115    06\n",
       "48116    06\n",
       "48117    06\n",
       "48118    06\n",
       "48119    06\n",
       "Name: DateTime, Length: 48120, dtype: object"
      ]
     },
     "execution_count": 28,
     "metadata": {},
     "output_type": "execute_result"
    }
   ],
   "source": [
    "# df[\"Month\"] = \n",
    "df[\"DateTime\"].dt.strftime(\"%m\")"
   ]
  },
  {
   "cell_type": "code",
   "execution_count": 23,
   "metadata": {},
   "outputs": [],
   "source": [
    "from sklearn.model_selection import train_test_split\n",
    "from sklearn.linear_model import LinearRegression"
   ]
  },
  {
   "cell_type": "code",
   "execution_count": 33,
   "metadata": {},
   "outputs": [],
   "source": [
    "model_data = df.copy()"
   ]
  },
  {
   "cell_type": "code",
   "execution_count": 37,
   "metadata": {},
   "outputs": [
    {
     "data": {
      "text/html": [
       "<div>\n",
       "<style scoped>\n",
       "    .dataframe tbody tr th:only-of-type {\n",
       "        vertical-align: middle;\n",
       "    }\n",
       "\n",
       "    .dataframe tbody tr th {\n",
       "        vertical-align: top;\n",
       "    }\n",
       "\n",
       "    .dataframe thead th {\n",
       "        text-align: right;\n",
       "    }\n",
       "</style>\n",
       "<table border=\"1\" class=\"dataframe\">\n",
       "  <thead>\n",
       "    <tr style=\"text-align: right;\">\n",
       "      <th></th>\n",
       "      <th>ID</th>\n",
       "      <th>DateTime</th>\n",
       "      <th>Month</th>\n",
       "      <th>Hour</th>\n",
       "      <th>Junction</th>\n",
       "      <th>Vehicles</th>\n",
       "      <th>Year</th>\n",
       "    </tr>\n",
       "  </thead>\n",
       "  <tbody>\n",
       "    <tr>\n",
       "      <th>0</th>\n",
       "      <td>20151101001</td>\n",
       "      <td>2015-11-01 00:00:00</td>\n",
       "      <td>11</td>\n",
       "      <td>00</td>\n",
       "      <td>1</td>\n",
       "      <td>15</td>\n",
       "      <td>2015</td>\n",
       "    </tr>\n",
       "    <tr>\n",
       "      <th>1</th>\n",
       "      <td>20151101011</td>\n",
       "      <td>2015-11-01 01:00:00</td>\n",
       "      <td>11</td>\n",
       "      <td>01</td>\n",
       "      <td>1</td>\n",
       "      <td>13</td>\n",
       "      <td>2015</td>\n",
       "    </tr>\n",
       "    <tr>\n",
       "      <th>2</th>\n",
       "      <td>20151101021</td>\n",
       "      <td>2015-11-01 02:00:00</td>\n",
       "      <td>11</td>\n",
       "      <td>02</td>\n",
       "      <td>1</td>\n",
       "      <td>10</td>\n",
       "      <td>2015</td>\n",
       "    </tr>\n",
       "    <tr>\n",
       "      <th>3</th>\n",
       "      <td>20151101031</td>\n",
       "      <td>2015-11-01 03:00:00</td>\n",
       "      <td>11</td>\n",
       "      <td>03</td>\n",
       "      <td>1</td>\n",
       "      <td>7</td>\n",
       "      <td>2015</td>\n",
       "    </tr>\n",
       "    <tr>\n",
       "      <th>4</th>\n",
       "      <td>20151101041</td>\n",
       "      <td>2015-11-01 04:00:00</td>\n",
       "      <td>11</td>\n",
       "      <td>04</td>\n",
       "      <td>1</td>\n",
       "      <td>9</td>\n",
       "      <td>2015</td>\n",
       "    </tr>\n",
       "  </tbody>\n",
       "</table>\n",
       "</div>"
      ],
      "text/plain": [
       "            ID            DateTime Month Hour  Junction  Vehicles  Year\n",
       "0  20151101001 2015-11-01 00:00:00    11   00         1        15  2015\n",
       "1  20151101011 2015-11-01 01:00:00    11   01         1        13  2015\n",
       "2  20151101021 2015-11-01 02:00:00    11   02         1        10  2015\n",
       "3  20151101031 2015-11-01 03:00:00    11   03         1         7  2015\n",
       "4  20151101041 2015-11-01 04:00:00    11   04         1         9  2015"
      ]
     },
     "execution_count": 37,
     "metadata": {},
     "output_type": "execute_result"
    }
   ],
   "source": [
    "model_data[\"Month\"] = model_data[\"DateTime\"].dt.strftime(\"%m\")\n",
    "model_data[\"Year\"] = model_data[\"DateTime\"].dt.strftime(\"%Y\")\n",
    "model_data[\"Hour\"] = model_data[\"DateTime\"].dt.strftime(\"%H\")\n",
    "model_data.head()"
   ]
  },
  {
   "cell_type": "code",
   "execution_count": 46,
   "metadata": {},
   "outputs": [],
   "source": [
    "X = model_data[[\"DateTime\", \"Junction\", \"Hour\", \"Month\", \"Year\"]]\n",
    "y = model_data[\"Vehicles\"]"
   ]
  },
  {
   "cell_type": "markdown",
   "metadata": {},
   "source": [
    "## Feature Selection"
   ]
  },
  {
   "cell_type": "code",
   "execution_count": null,
   "metadata": {},
   "outputs": [],
   "source": []
  },
  {
   "cell_type": "code",
   "execution_count": null,
   "metadata": {},
   "outputs": [],
   "source": []
  },
  {
   "cell_type": "code",
   "execution_count": 40,
   "metadata": {},
   "outputs": [],
   "source": [
    "X_train, y_train, X_test, y_test = train_test_split(X, y, test_size=0.2, random_state=42)"
   ]
  },
  {
   "cell_type": "code",
   "execution_count": 45,
   "metadata": {},
   "outputs": [
    {
     "name": "stdout",
     "output_type": "stream",
     "text": [
      "(38496, 2)\n",
      "(38496,)\n",
      "(9624, 2)\n",
      "(9624,)\n"
     ]
    }
   ],
   "source": [
    "print(X_train.shape)\n",
    "print(X_test.shape)\n",
    "print(y_train.shape)\n",
    "print(y_test.shape)"
   ]
  }
 ],
 "metadata": {
  "kernelspec": {
   "display_name": "Python 3",
   "language": "python",
   "name": "python3"
  },
  "language_info": {
   "codemirror_mode": {
    "name": "ipython",
    "version": 3
   },
   "file_extension": ".py",
   "mimetype": "text/x-python",
   "name": "python",
   "nbconvert_exporter": "python",
   "pygments_lexer": "ipython3",
   "version": "3.7.6"
  }
 },
 "nbformat": 4,
 "nbformat_minor": 4
}
